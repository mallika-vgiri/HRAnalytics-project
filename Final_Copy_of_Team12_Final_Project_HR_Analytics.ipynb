{
  "nbformat": 4,
  "nbformat_minor": 0,
  "metadata": {
    "colab": {
      "name": "Final Copy of Team12-Final Project-HR Analytics.ipynb",
      "provenance": [],
      "collapsed_sections": []
    },
    "kernelspec": {
      "name": "python3",
      "display_name": "Python 3"
    },
    "language_info": {
      "name": "python"
    }
  },
  "cells": [
    {
      "cell_type": "code",
      "execution_count": null,
      "metadata": {
        "id": "lQ2tCzbKxZ_C"
      },
      "outputs": [],
      "source": [
        "#Import Packages\n",
        "import pandas as pd\n",
        "import numpy as np\n",
        "import matplotlib.pyplot as plt\n",
        "import os\n",
        "import re\n",
        "import sys,traceback\n",
        "import seaborn as sns\n",
        "plt.style.use(\"seaborn\")"
      ]
    },
    {
      "cell_type": "code",
      "source": [
        "from sklearn.model_selection import train_test_split\n",
        "from sklearn.ensemble import RandomForestClassifier\n",
        "from sklearn.model_selection import cross_val_predict, cross_val_score\n",
        "from sklearn.metrics import accuracy_score, classification_report, confusion_matrix\n",
        "from sklearn.metrics import confusion_matrix\n",
        "from sklearn import model_selection"
      ],
      "metadata": {
        "id": "2u_nCQnqZ0yw"
      },
      "execution_count": null,
      "outputs": []
    },
    {
      "cell_type": "code",
      "source": [
        "import statsmodels.api as sm\n",
        "from statsmodels.formula.api import ols\n",
        "import warnings\n",
        "from sklearn import preprocessing\n",
        "from scipy.stats import normaltest , skewtest ,kurtosistest\n",
        "from scipy.stats import chi2_contingency"
      ],
      "metadata": {
        "id": "QXhW-83dHmxy",
        "colab": {
          "base_uri": "https://localhost:8080/"
        },
        "outputId": "e25d5f5c-a115-40d9-b3bd-da500c8fb48d"
      },
      "execution_count": null,
      "outputs": [
        {
          "output_type": "stream",
          "name": "stderr",
          "text": [
            "/usr/local/lib/python3.7/dist-packages/statsmodels/tools/_testing.py:19: FutureWarning: pandas.util.testing is deprecated. Use the functions in the public API at pandas.testing instead.\n",
            "  import pandas.util.testing as tm\n"
          ]
        }
      ]
    },
    {
      "cell_type": "code",
      "source": [
        "from sklearn.model_selection import train_test_split , KFold\n",
        "from sklearn.metrics import accuracy_score\n",
        "import xgboost\n",
        "import csv as csv\n",
        "from xgboost import plot_importance\n",
        "from matplotlib import pyplot\n",
        "from sklearn.model_selection import cross_val_score\n",
        "\n",
        "# train a logistic regression model on the training set\n",
        "from sklearn.linear_model import LogisticRegression"
      ],
      "metadata": {
        "id": "bI2n-0tb03mw"
      },
      "execution_count": null,
      "outputs": []
    },
    {
      "cell_type": "code",
      "source": [
        "#Import Dataset\n",
        "hr_data = pd.read_csv('HR_comma_sep.csv')"
      ],
      "metadata": {
        "id": "xDwKK5Njy_xt"
      },
      "execution_count": null,
      "outputs": []
    },
    {
      "cell_type": "markdown",
      "source": [
        "# Data Cleaning\n",
        "\n",
        "-Data preprocessing, EDA part.\n",
        "- mentor available from 12 to 1\n",
        "- univariate, bivariate, multivariate analysis, \n",
        "- univariate -take single columns and prepare graphs for them, get some fruitful information-- find patterns in the data\n",
        "- bivariate - take 2 columns at a time - 1.target variable and 2, independent variable.\n",
        "- multivariate - plot heatmaps, correlation plots figure out some patterns.\n",
        "- use plotly - libs used for visualizations.\n",
        "- dedicated marks for each capstone project\n",
        "- 10 marks for completing data preprocessing, EDA, give a quick introduction of what is being done just like mini projects.\n",
        "- discuss about data balancing once tasks are done\n",
        "\n",
        "\n",
        "- Univariate Analysis - Madhav\n",
        "- Bivariate analysis - Durga P\n",
        "- Multivariate - Mallika\n",
        "- Visualization - Abhijitram\n",
        "\n",
        "\n"
      ],
      "metadata": {
        "id": "lH0GUqYSzH-i"
      }
    },
    {
      "cell_type": "code",
      "source": [
        "#Describe data set\n",
        "hr_data.describe()"
      ],
      "metadata": {
        "colab": {
          "base_uri": "https://localhost:8080/",
          "height": 300
        },
        "id": "327XGZJ63qin",
        "outputId": "95b23a99-2e9b-4c12-f4bd-1f4066abc614"
      },
      "execution_count": null,
      "outputs": [
        {
          "output_type": "execute_result",
          "data": {
            "text/plain": [
              "       satisfaction_level  last_evaluation  number_project  \\\n",
              "count        14999.000000     14999.000000    14999.000000   \n",
              "mean             0.612834         0.716102        3.803054   \n",
              "std              0.248631         0.171169        1.232592   \n",
              "min              0.090000         0.360000        2.000000   \n",
              "25%              0.440000         0.560000        3.000000   \n",
              "50%              0.640000         0.720000        4.000000   \n",
              "75%              0.820000         0.870000        5.000000   \n",
              "max              1.000000         1.000000        7.000000   \n",
              "\n",
              "       average_montly_hours  time_spend_company  Work_accident          left  \\\n",
              "count          14999.000000        14999.000000   14999.000000  14999.000000   \n",
              "mean             201.050337            3.498233       0.144610      0.238083   \n",
              "std               49.943099            1.460136       0.351719      0.425924   \n",
              "min               96.000000            2.000000       0.000000      0.000000   \n",
              "25%              156.000000            3.000000       0.000000      0.000000   \n",
              "50%              200.000000            3.000000       0.000000      0.000000   \n",
              "75%              245.000000            4.000000       0.000000      0.000000   \n",
              "max              310.000000           10.000000       1.000000      1.000000   \n",
              "\n",
              "       promotion_last_5years  \n",
              "count           14999.000000  \n",
              "mean                0.021268  \n",
              "std                 0.144281  \n",
              "min                 0.000000  \n",
              "25%                 0.000000  \n",
              "50%                 0.000000  \n",
              "75%                 0.000000  \n",
              "max                 1.000000  "
            ],
            "text/html": [
              "\n",
              "  <div id=\"df-170183c9-b6af-4d67-b4e0-06f813d71c93\">\n",
              "    <div class=\"colab-df-container\">\n",
              "      <div>\n",
              "<style scoped>\n",
              "    .dataframe tbody tr th:only-of-type {\n",
              "        vertical-align: middle;\n",
              "    }\n",
              "\n",
              "    .dataframe tbody tr th {\n",
              "        vertical-align: top;\n",
              "    }\n",
              "\n",
              "    .dataframe thead th {\n",
              "        text-align: right;\n",
              "    }\n",
              "</style>\n",
              "<table border=\"1\" class=\"dataframe\">\n",
              "  <thead>\n",
              "    <tr style=\"text-align: right;\">\n",
              "      <th></th>\n",
              "      <th>satisfaction_level</th>\n",
              "      <th>last_evaluation</th>\n",
              "      <th>number_project</th>\n",
              "      <th>average_montly_hours</th>\n",
              "      <th>time_spend_company</th>\n",
              "      <th>Work_accident</th>\n",
              "      <th>left</th>\n",
              "      <th>promotion_last_5years</th>\n",
              "    </tr>\n",
              "  </thead>\n",
              "  <tbody>\n",
              "    <tr>\n",
              "      <th>count</th>\n",
              "      <td>14999.000000</td>\n",
              "      <td>14999.000000</td>\n",
              "      <td>14999.000000</td>\n",
              "      <td>14999.000000</td>\n",
              "      <td>14999.000000</td>\n",
              "      <td>14999.000000</td>\n",
              "      <td>14999.000000</td>\n",
              "      <td>14999.000000</td>\n",
              "    </tr>\n",
              "    <tr>\n",
              "      <th>mean</th>\n",
              "      <td>0.612834</td>\n",
              "      <td>0.716102</td>\n",
              "      <td>3.803054</td>\n",
              "      <td>201.050337</td>\n",
              "      <td>3.498233</td>\n",
              "      <td>0.144610</td>\n",
              "      <td>0.238083</td>\n",
              "      <td>0.021268</td>\n",
              "    </tr>\n",
              "    <tr>\n",
              "      <th>std</th>\n",
              "      <td>0.248631</td>\n",
              "      <td>0.171169</td>\n",
              "      <td>1.232592</td>\n",
              "      <td>49.943099</td>\n",
              "      <td>1.460136</td>\n",
              "      <td>0.351719</td>\n",
              "      <td>0.425924</td>\n",
              "      <td>0.144281</td>\n",
              "    </tr>\n",
              "    <tr>\n",
              "      <th>min</th>\n",
              "      <td>0.090000</td>\n",
              "      <td>0.360000</td>\n",
              "      <td>2.000000</td>\n",
              "      <td>96.000000</td>\n",
              "      <td>2.000000</td>\n",
              "      <td>0.000000</td>\n",
              "      <td>0.000000</td>\n",
              "      <td>0.000000</td>\n",
              "    </tr>\n",
              "    <tr>\n",
              "      <th>25%</th>\n",
              "      <td>0.440000</td>\n",
              "      <td>0.560000</td>\n",
              "      <td>3.000000</td>\n",
              "      <td>156.000000</td>\n",
              "      <td>3.000000</td>\n",
              "      <td>0.000000</td>\n",
              "      <td>0.000000</td>\n",
              "      <td>0.000000</td>\n",
              "    </tr>\n",
              "    <tr>\n",
              "      <th>50%</th>\n",
              "      <td>0.640000</td>\n",
              "      <td>0.720000</td>\n",
              "      <td>4.000000</td>\n",
              "      <td>200.000000</td>\n",
              "      <td>3.000000</td>\n",
              "      <td>0.000000</td>\n",
              "      <td>0.000000</td>\n",
              "      <td>0.000000</td>\n",
              "    </tr>\n",
              "    <tr>\n",
              "      <th>75%</th>\n",
              "      <td>0.820000</td>\n",
              "      <td>0.870000</td>\n",
              "      <td>5.000000</td>\n",
              "      <td>245.000000</td>\n",
              "      <td>4.000000</td>\n",
              "      <td>0.000000</td>\n",
              "      <td>0.000000</td>\n",
              "      <td>0.000000</td>\n",
              "    </tr>\n",
              "    <tr>\n",
              "      <th>max</th>\n",
              "      <td>1.000000</td>\n",
              "      <td>1.000000</td>\n",
              "      <td>7.000000</td>\n",
              "      <td>310.000000</td>\n",
              "      <td>10.000000</td>\n",
              "      <td>1.000000</td>\n",
              "      <td>1.000000</td>\n",
              "      <td>1.000000</td>\n",
              "    </tr>\n",
              "  </tbody>\n",
              "</table>\n",
              "</div>\n",
              "      <button class=\"colab-df-convert\" onclick=\"convertToInteractive('df-170183c9-b6af-4d67-b4e0-06f813d71c93')\"\n",
              "              title=\"Convert this dataframe to an interactive table.\"\n",
              "              style=\"display:none;\">\n",
              "        \n",
              "  <svg xmlns=\"http://www.w3.org/2000/svg\" height=\"24px\"viewBox=\"0 0 24 24\"\n",
              "       width=\"24px\">\n",
              "    <path d=\"M0 0h24v24H0V0z\" fill=\"none\"/>\n",
              "    <path d=\"M18.56 5.44l.94 2.06.94-2.06 2.06-.94-2.06-.94-.94-2.06-.94 2.06-2.06.94zm-11 1L8.5 8.5l.94-2.06 2.06-.94-2.06-.94L8.5 2.5l-.94 2.06-2.06.94zm10 10l.94 2.06.94-2.06 2.06-.94-2.06-.94-.94-2.06-.94 2.06-2.06.94z\"/><path d=\"M17.41 7.96l-1.37-1.37c-.4-.4-.92-.59-1.43-.59-.52 0-1.04.2-1.43.59L10.3 9.45l-7.72 7.72c-.78.78-.78 2.05 0 2.83L4 21.41c.39.39.9.59 1.41.59.51 0 1.02-.2 1.41-.59l7.78-7.78 2.81-2.81c.8-.78.8-2.07 0-2.86zM5.41 20L4 18.59l7.72-7.72 1.47 1.35L5.41 20z\"/>\n",
              "  </svg>\n",
              "      </button>\n",
              "      \n",
              "  <style>\n",
              "    .colab-df-container {\n",
              "      display:flex;\n",
              "      flex-wrap:wrap;\n",
              "      gap: 12px;\n",
              "    }\n",
              "\n",
              "    .colab-df-convert {\n",
              "      background-color: #E8F0FE;\n",
              "      border: none;\n",
              "      border-radius: 50%;\n",
              "      cursor: pointer;\n",
              "      display: none;\n",
              "      fill: #1967D2;\n",
              "      height: 32px;\n",
              "      padding: 0 0 0 0;\n",
              "      width: 32px;\n",
              "    }\n",
              "\n",
              "    .colab-df-convert:hover {\n",
              "      background-color: #E2EBFA;\n",
              "      box-shadow: 0px 1px 2px rgba(60, 64, 67, 0.3), 0px 1px 3px 1px rgba(60, 64, 67, 0.15);\n",
              "      fill: #174EA6;\n",
              "    }\n",
              "\n",
              "    [theme=dark] .colab-df-convert {\n",
              "      background-color: #3B4455;\n",
              "      fill: #D2E3FC;\n",
              "    }\n",
              "\n",
              "    [theme=dark] .colab-df-convert:hover {\n",
              "      background-color: #434B5C;\n",
              "      box-shadow: 0px 1px 3px 1px rgba(0, 0, 0, 0.15);\n",
              "      filter: drop-shadow(0px 1px 2px rgba(0, 0, 0, 0.3));\n",
              "      fill: #FFFFFF;\n",
              "    }\n",
              "  </style>\n",
              "\n",
              "      <script>\n",
              "        const buttonEl =\n",
              "          document.querySelector('#df-170183c9-b6af-4d67-b4e0-06f813d71c93 button.colab-df-convert');\n",
              "        buttonEl.style.display =\n",
              "          google.colab.kernel.accessAllowed ? 'block' : 'none';\n",
              "\n",
              "        async function convertToInteractive(key) {\n",
              "          const element = document.querySelector('#df-170183c9-b6af-4d67-b4e0-06f813d71c93');\n",
              "          const dataTable =\n",
              "            await google.colab.kernel.invokeFunction('convertToInteractive',\n",
              "                                                     [key], {});\n",
              "          if (!dataTable) return;\n",
              "\n",
              "          const docLinkHtml = 'Like what you see? Visit the ' +\n",
              "            '<a target=\"_blank\" href=https://colab.research.google.com/notebooks/data_table.ipynb>data table notebook</a>'\n",
              "            + ' to learn more about interactive tables.';\n",
              "          element.innerHTML = '';\n",
              "          dataTable['output_type'] = 'display_data';\n",
              "          await google.colab.output.renderOutput(dataTable, element);\n",
              "          const docLink = document.createElement('div');\n",
              "          docLink.innerHTML = docLinkHtml;\n",
              "          element.appendChild(docLink);\n",
              "        }\n",
              "      </script>\n",
              "    </div>\n",
              "  </div>\n",
              "  "
            ]
          },
          "metadata": {},
          "execution_count": 9
        }
      ]
    },
    {
      "cell_type": "code",
      "source": [
        "hr_data.head()"
      ],
      "metadata": {
        "colab": {
          "base_uri": "https://localhost:8080/",
          "height": 206
        },
        "id": "t5HMM0ZQ5KSM",
        "outputId": "6e63b111-cb68-47e0-dd4e-922e46b73650"
      },
      "execution_count": null,
      "outputs": [
        {
          "output_type": "execute_result",
          "data": {
            "text/plain": [
              "   satisfaction_level  last_evaluation  number_project  average_montly_hours  \\\n",
              "0                0.38             0.53               2                   157   \n",
              "1                0.80             0.86               5                   262   \n",
              "2                0.11             0.88               7                   272   \n",
              "3                0.72             0.87               5                   223   \n",
              "4                0.37             0.52               2                   159   \n",
              "\n",
              "   time_spend_company  Work_accident  left  promotion_last_5years  sales  \\\n",
              "0                   3              0     1                      0  sales   \n",
              "1                   6              0     1                      0  sales   \n",
              "2                   4              0     1                      0  sales   \n",
              "3                   5              0     1                      0  sales   \n",
              "4                   3              0     1                      0  sales   \n",
              "\n",
              "   salary  \n",
              "0     low  \n",
              "1  medium  \n",
              "2  medium  \n",
              "3     low  \n",
              "4     low  "
            ],
            "text/html": [
              "\n",
              "  <div id=\"df-47cce593-e0d8-4914-aca6-4bfcd9343a55\">\n",
              "    <div class=\"colab-df-container\">\n",
              "      <div>\n",
              "<style scoped>\n",
              "    .dataframe tbody tr th:only-of-type {\n",
              "        vertical-align: middle;\n",
              "    }\n",
              "\n",
              "    .dataframe tbody tr th {\n",
              "        vertical-align: top;\n",
              "    }\n",
              "\n",
              "    .dataframe thead th {\n",
              "        text-align: right;\n",
              "    }\n",
              "</style>\n",
              "<table border=\"1\" class=\"dataframe\">\n",
              "  <thead>\n",
              "    <tr style=\"text-align: right;\">\n",
              "      <th></th>\n",
              "      <th>satisfaction_level</th>\n",
              "      <th>last_evaluation</th>\n",
              "      <th>number_project</th>\n",
              "      <th>average_montly_hours</th>\n",
              "      <th>time_spend_company</th>\n",
              "      <th>Work_accident</th>\n",
              "      <th>left</th>\n",
              "      <th>promotion_last_5years</th>\n",
              "      <th>sales</th>\n",
              "      <th>salary</th>\n",
              "    </tr>\n",
              "  </thead>\n",
              "  <tbody>\n",
              "    <tr>\n",
              "      <th>0</th>\n",
              "      <td>0.38</td>\n",
              "      <td>0.53</td>\n",
              "      <td>2</td>\n",
              "      <td>157</td>\n",
              "      <td>3</td>\n",
              "      <td>0</td>\n",
              "      <td>1</td>\n",
              "      <td>0</td>\n",
              "      <td>sales</td>\n",
              "      <td>low</td>\n",
              "    </tr>\n",
              "    <tr>\n",
              "      <th>1</th>\n",
              "      <td>0.80</td>\n",
              "      <td>0.86</td>\n",
              "      <td>5</td>\n",
              "      <td>262</td>\n",
              "      <td>6</td>\n",
              "      <td>0</td>\n",
              "      <td>1</td>\n",
              "      <td>0</td>\n",
              "      <td>sales</td>\n",
              "      <td>medium</td>\n",
              "    </tr>\n",
              "    <tr>\n",
              "      <th>2</th>\n",
              "      <td>0.11</td>\n",
              "      <td>0.88</td>\n",
              "      <td>7</td>\n",
              "      <td>272</td>\n",
              "      <td>4</td>\n",
              "      <td>0</td>\n",
              "      <td>1</td>\n",
              "      <td>0</td>\n",
              "      <td>sales</td>\n",
              "      <td>medium</td>\n",
              "    </tr>\n",
              "    <tr>\n",
              "      <th>3</th>\n",
              "      <td>0.72</td>\n",
              "      <td>0.87</td>\n",
              "      <td>5</td>\n",
              "      <td>223</td>\n",
              "      <td>5</td>\n",
              "      <td>0</td>\n",
              "      <td>1</td>\n",
              "      <td>0</td>\n",
              "      <td>sales</td>\n",
              "      <td>low</td>\n",
              "    </tr>\n",
              "    <tr>\n",
              "      <th>4</th>\n",
              "      <td>0.37</td>\n",
              "      <td>0.52</td>\n",
              "      <td>2</td>\n",
              "      <td>159</td>\n",
              "      <td>3</td>\n",
              "      <td>0</td>\n",
              "      <td>1</td>\n",
              "      <td>0</td>\n",
              "      <td>sales</td>\n",
              "      <td>low</td>\n",
              "    </tr>\n",
              "  </tbody>\n",
              "</table>\n",
              "</div>\n",
              "      <button class=\"colab-df-convert\" onclick=\"convertToInteractive('df-47cce593-e0d8-4914-aca6-4bfcd9343a55')\"\n",
              "              title=\"Convert this dataframe to an interactive table.\"\n",
              "              style=\"display:none;\">\n",
              "        \n",
              "  <svg xmlns=\"http://www.w3.org/2000/svg\" height=\"24px\"viewBox=\"0 0 24 24\"\n",
              "       width=\"24px\">\n",
              "    <path d=\"M0 0h24v24H0V0z\" fill=\"none\"/>\n",
              "    <path d=\"M18.56 5.44l.94 2.06.94-2.06 2.06-.94-2.06-.94-.94-2.06-.94 2.06-2.06.94zm-11 1L8.5 8.5l.94-2.06 2.06-.94-2.06-.94L8.5 2.5l-.94 2.06-2.06.94zm10 10l.94 2.06.94-2.06 2.06-.94-2.06-.94-.94-2.06-.94 2.06-2.06.94z\"/><path d=\"M17.41 7.96l-1.37-1.37c-.4-.4-.92-.59-1.43-.59-.52 0-1.04.2-1.43.59L10.3 9.45l-7.72 7.72c-.78.78-.78 2.05 0 2.83L4 21.41c.39.39.9.59 1.41.59.51 0 1.02-.2 1.41-.59l7.78-7.78 2.81-2.81c.8-.78.8-2.07 0-2.86zM5.41 20L4 18.59l7.72-7.72 1.47 1.35L5.41 20z\"/>\n",
              "  </svg>\n",
              "      </button>\n",
              "      \n",
              "  <style>\n",
              "    .colab-df-container {\n",
              "      display:flex;\n",
              "      flex-wrap:wrap;\n",
              "      gap: 12px;\n",
              "    }\n",
              "\n",
              "    .colab-df-convert {\n",
              "      background-color: #E8F0FE;\n",
              "      border: none;\n",
              "      border-radius: 50%;\n",
              "      cursor: pointer;\n",
              "      display: none;\n",
              "      fill: #1967D2;\n",
              "      height: 32px;\n",
              "      padding: 0 0 0 0;\n",
              "      width: 32px;\n",
              "    }\n",
              "\n",
              "    .colab-df-convert:hover {\n",
              "      background-color: #E2EBFA;\n",
              "      box-shadow: 0px 1px 2px rgba(60, 64, 67, 0.3), 0px 1px 3px 1px rgba(60, 64, 67, 0.15);\n",
              "      fill: #174EA6;\n",
              "    }\n",
              "\n",
              "    [theme=dark] .colab-df-convert {\n",
              "      background-color: #3B4455;\n",
              "      fill: #D2E3FC;\n",
              "    }\n",
              "\n",
              "    [theme=dark] .colab-df-convert:hover {\n",
              "      background-color: #434B5C;\n",
              "      box-shadow: 0px 1px 3px 1px rgba(0, 0, 0, 0.15);\n",
              "      filter: drop-shadow(0px 1px 2px rgba(0, 0, 0, 0.3));\n",
              "      fill: #FFFFFF;\n",
              "    }\n",
              "  </style>\n",
              "\n",
              "      <script>\n",
              "        const buttonEl =\n",
              "          document.querySelector('#df-47cce593-e0d8-4914-aca6-4bfcd9343a55 button.colab-df-convert');\n",
              "        buttonEl.style.display =\n",
              "          google.colab.kernel.accessAllowed ? 'block' : 'none';\n",
              "\n",
              "        async function convertToInteractive(key) {\n",
              "          const element = document.querySelector('#df-47cce593-e0d8-4914-aca6-4bfcd9343a55');\n",
              "          const dataTable =\n",
              "            await google.colab.kernel.invokeFunction('convertToInteractive',\n",
              "                                                     [key], {});\n",
              "          if (!dataTable) return;\n",
              "\n",
              "          const docLinkHtml = 'Like what you see? Visit the ' +\n",
              "            '<a target=\"_blank\" href=https://colab.research.google.com/notebooks/data_table.ipynb>data table notebook</a>'\n",
              "            + ' to learn more about interactive tables.';\n",
              "          element.innerHTML = '';\n",
              "          dataTable['output_type'] = 'display_data';\n",
              "          await google.colab.output.renderOutput(dataTable, element);\n",
              "          const docLink = document.createElement('div');\n",
              "          docLink.innerHTML = docLinkHtml;\n",
              "          element.appendChild(docLink);\n",
              "        }\n",
              "      </script>\n",
              "    </div>\n",
              "  </div>\n",
              "  "
            ]
          },
          "metadata": {},
          "execution_count": 10
        }
      ]
    },
    {
      "cell_type": "code",
      "source": [
        "hr_data.head()"
      ],
      "metadata": {
        "id": "lA9qdamKCizX"
      },
      "execution_count": null,
      "outputs": []
    },
    {
      "cell_type": "code",
      "source": [
        "#Rename 'sales' column to department \n",
        "hr_data=hr_data.rename(columns = {'sales':'department'})\n",
        "#Display data type for each column\n",
        "hr_data.dtypes"
      ],
      "metadata": {
        "colab": {
          "base_uri": "https://localhost:8080/"
        },
        "id": "OC5WQfFe5QEi",
        "outputId": "c3fc58c1-c26e-4478-ef54-b38ee43770ad"
      },
      "execution_count": null,
      "outputs": [
        {
          "output_type": "execute_result",
          "data": {
            "text/plain": [
              "satisfaction_level       float64\n",
              "last_evaluation          float64\n",
              "number_project             int64\n",
              "average_montly_hours       int64\n",
              "time_spend_company         int64\n",
              "Work_accident              int64\n",
              "left                       int64\n",
              "promotion_last_5years      int64\n",
              "department                object\n",
              "salary                    object\n",
              "dtype: object"
            ]
          },
          "metadata": {},
          "execution_count": 11
        }
      ]
    },
    {
      "cell_type": "code",
      "source": [
        "#To get the unique values for department\n",
        "hr_data['department'].unique()"
      ],
      "metadata": {
        "id": "173rrPMf5m6Z"
      },
      "execution_count": null,
      "outputs": []
    },
    {
      "cell_type": "code",
      "source": [
        "#Check for missing values\n",
        "hr_data.isnull().any()"
      ],
      "metadata": {
        "colab": {
          "base_uri": "https://localhost:8080/"
        },
        "id": "kkFovxVVzPbW",
        "outputId": "bca8f2ae-f37d-47ba-bafc-bba3d0cc8a21"
      },
      "execution_count": null,
      "outputs": [
        {
          "output_type": "execute_result",
          "data": {
            "text/plain": [
              "satisfaction_level       False\n",
              "last_evaluation          False\n",
              "number_project           False\n",
              "average_montly_hours     False\n",
              "time_spend_company       False\n",
              "Work_accident            False\n",
              "left                     False\n",
              "promotion_last_5years    False\n",
              "department               False\n",
              "salary                   False\n",
              "dtype: bool"
            ]
          },
          "metadata": {},
          "execution_count": 12
        }
      ]
    },
    {
      "cell_type": "markdown",
      "source": [
        "## Bivariate Analysis\n"
      ],
      "metadata": {
        "id": "HkZhkhzMDKs1"
      }
    },
    {
      "cell_type": "code",
      "source": [
        "def show_values(axs, orient=\"v\", space=.01):\n",
        "    def _single(ax):\n",
        "        if orient == \"v\":\n",
        "            for p in ax.patches:\n",
        "                _x = p.get_x() + p.get_width() / 2\n",
        "                _y = p.get_y() + p.get_height() + (p.get_height()*0.01)\n",
        "                value = '{:.1f}'.format(p.get_height())\n",
        "                ax.text(_x, _y, value, ha=\"center\") \n",
        "        elif orient == \"h\":\n",
        "            for p in ax.patches:\n",
        "                _x = p.get_x() + p.get_width() + float(space)\n",
        "                _y = p.get_y() + p.get_height() - (p.get_height()*0.5)\n",
        "                value = '{:.1f}'.format(p.get_width())\n",
        "                ax.text(_x, _y, value, ha=\"left\")\n",
        "\n",
        "    if isinstance(axs, np.ndarray):\n",
        "        for idx, ax in np.ndenumerate(axs):\n",
        "            _single(ax)\n",
        "    else:\n",
        "        _single(axs)"
      ],
      "metadata": {
        "id": "0wvcVve8z3Ij"
      },
      "execution_count": null,
      "outputs": []
    },
    {
      "cell_type": "code",
      "source": [
        "categorical = ['promotion_last_5years' ,'left' ,'Work_accident' ,'salary' , 'department']\n",
        "for i in categorical :\n",
        "    hr_data[i] = hr_data[i].astype('category')\n",
        "hr_data.describe(include=['category'])"
      ],
      "metadata": {
        "id": "2gakN5cYRvkh"
      },
      "execution_count": null,
      "outputs": []
    },
    {
      "cell_type": "markdown",
      "source": [
        "Relations between employees who Left the organisation  and satisfaction level"
      ],
      "metadata": {
        "id": "Kwz0a-7BDgAs"
      }
    },
    {
      "cell_type": "code",
      "source": [
        "for i in hr_data.select_dtypes(['float' , 'int']).columns:\n",
        "\n",
        "    sns.boxplot(x='left', y=i, data=hr_data, color='#99c2a2')\n",
        "    plt.show()\n",
        "    model = ols( '{} ~ C(left)'.format(i), data=hr_data).fit()\n",
        "    "
      ],
      "metadata": {
        "id": "b4uROgeMDQsj"
      },
      "execution_count": null,
      "outputs": []
    },
    {
      "cell_type": "code",
      "source": [
        "sns.heatmap(hr_data.select_dtypes(['float' , 'int']).corr() , annot = True , vmin=-1, vmax=1, center= 0, cmap= 'RdYlGn')"
      ],
      "metadata": {
        "id": "p-JWdIV7DxBV"
      },
      "execution_count": null,
      "outputs": []
    },
    {
      "cell_type": "code",
      "source": [
        "for i in hr_data.select_dtypes(['category']).drop(columns=['left']).columns:\n",
        "    p =  (chi2_contingency(pd.crosstab(hr_data[i], hr_data['left']))[1])\n",
        "    if p < .001 :\n",
        "        print('employee choice regarding leaving gets affected by {} (reject H0)'.format(i))\n",
        "    else :\n",
        "        print('employee choice regarding leaving not affected by {} (fail to reject H0)'.format(i))\n",
        "\n",
        "    contigency_pct = pd.crosstab(hr_data[i], hr_data['left'], normalize='index')\n",
        "    sns.heatmap(contigency_pct, annot=True, cmap=\"YlGnBu\")\n",
        "    plt.show()"
      ],
      "metadata": {
        "id": "AiGR-ktOQptw"
      },
      "execution_count": null,
      "outputs": []
    },
    {
      "cell_type": "markdown",
      "source": [
        "## Multivariate analysis"
      ],
      "metadata": {
        "id": "c-qtl-vg43Pd"
      }
    },
    {
      "cell_type": "code",
      "source": [
        "#To get the unique values for department and salary\n",
        "hr_data['department'].unique()\n"
      ],
      "metadata": {
        "id": "uPKCI_ES_YtA"
      },
      "execution_count": null,
      "outputs": []
    },
    {
      "cell_type": "code",
      "source": [
        "hr_data['department_cat'] = hr_data['department'].replace(['sales', 'accounting', 'hr', 'technical', 'support', 'management',\n",
        "       'IT', 'product_mng', 'marketing', 'RandD'],\n",
        "                        [0,1,2,3,4,5,6,7,8,9])"
      ],
      "metadata": {
        "id": "n-ZNS7g_AAAV"
      },
      "execution_count": null,
      "outputs": []
    },
    {
      "cell_type": "code",
      "source": [
        "hr_data['salary'].unique()"
      ],
      "metadata": {
        "id": "2LJiCYqt_fln"
      },
      "execution_count": null,
      "outputs": []
    },
    {
      "cell_type": "code",
      "source": [
        "hr_data['salary_cat'] = hr_data['salary'].replace(['low', 'medium', 'high'],[0,1,2])"
      ],
      "metadata": {
        "id": "8YWJo9f7AftS"
      },
      "execution_count": null,
      "outputs": []
    },
    {
      "cell_type": "code",
      "source": [
        "hr = hr_data.drop(labels = ['department','salary'],axis=1)"
      ],
      "metadata": {
        "id": "dyRlW1AVAzg7"
      },
      "execution_count": null,
      "outputs": []
    },
    {
      "cell_type": "code",
      "source": [
        "#plot heatmap\n",
        "plt.figure(figsize=(10,10))\n",
        "heat_map = sns.heatmap( hr, linewidth = 1 , annot = True)\n",
        "plt.title( \"HeatMap for HR data\" )\n",
        "plt.show()"
      ],
      "metadata": {
        "id": "UkUOPsLd9dy8"
      },
      "execution_count": null,
      "outputs": []
    },
    {
      "cell_type": "markdown",
      "source": [
        "## Conclusions from EDA\n",
        "* satisfaction level, work accidents, salary, time spent in the company seem to affect whether an employee will leave the organization the most.\n",
        "* Satisfaction level and left are negatively correlated so less the satisfaction_level, more likely the employee is to leave the org\n",
        "* work accidents and left are negatively correlated so an employee facing a work accident is less likely to leave the org\n",
        "* salary and left are negatively correlated so an employee being paid less is more likely to leave the org\n",
        "* time spent in the company and left are positively correlated so an employee who has spend more time in the org is more likely to leave it."
      ],
      "metadata": {
        "id": "UQRKbYWY900p"
      }
    },
    {
      "cell_type": "markdown",
      "source": [
        "# Data Modelling\n",
        "* Decision Trees - this method takes into account observations about an item to \n",
        "predict that item’s value\n",
        "* Random Forest - It can handle binary features, categorical features, and numerical features. There is very little pre-processing that needs to be done\n",
        "* Logistic Regression - To understand the relationship between the dependent variable and one or more independent variables by estimating probabilities\n",
        "* Support Vector Machine - a supervised machine learning algorithm used for both classification and regression\n"
      ],
      "metadata": {
        "id": "YT15PZ1s9_Il"
      }
    },
    {
      "cell_type": "markdown",
      "source": [
        "## Decision Tree\n"
      ],
      "metadata": {
        "id": "vjeY7CB13EQC"
      }
    },
    {
      "cell_type": "markdown",
      "source": [
        "### Import required packages"
      ],
      "metadata": {
        "id": "ls8QpoIqHTxr"
      }
    },
    {
      "cell_type": "code",
      "source": [
        "# Install dtreeviz library\n",
        "!pip -qq install dtreeviz "
      ],
      "metadata": {
        "colab": {
          "base_uri": "https://localhost:8080/"
        },
        "id": "qsgq-JnAHV5Q",
        "outputId": "7524d779-f4e5-4fdc-f972-3fdcc4d7b604"
      },
      "execution_count": null,
      "outputs": [
        {
          "output_type": "stream",
          "name": "stdout",
          "text": [
            "\u001b[?25l\r\u001b[K     |█████▎                          | 10 kB 26.8 MB/s eta 0:00:01\r\u001b[K     |██████████▋                     | 20 kB 31.7 MB/s eta 0:00:01\r\u001b[K     |████████████████                | 30 kB 16.8 MB/s eta 0:00:01\r\u001b[K     |█████████████████████▎          | 40 kB 11.5 MB/s eta 0:00:01\r\u001b[K     |██████████████████████████▋     | 51 kB 4.4 MB/s eta 0:00:01\r\u001b[K     |████████████████████████████████| 61 kB 4.9 MB/s eta 0:00:01\r\u001b[K     |████████████████████████████████| 61 kB 205 kB/s \n",
            "\u001b[?25h  Building wheel for dtreeviz (setup.py) ... \u001b[?25l\u001b[?25hdone\n"
          ]
        }
      ]
    },
    {
      "cell_type": "code",
      "source": [
        "from matplotlib.colors import ListedColormap                                    # to import color map                                          \n",
        "from sklearn import datasets\n",
        "from sklearn import tree\n",
        "from sklearn.tree import DecisionTreeClassifier, DecisionTreeRegressor          # to import DT classifier and Regressor\n",
        "import graphviz                                                                 # to import graphviz \n",
        "from dtreeviz.trees import dtreeviz                                             # to import dtreeviz \n",
        "%matplotlib inline"
      ],
      "metadata": {
        "id": "A6cV3hixHYbz"
      },
      "execution_count": null,
      "outputs": []
    },
    {
      "cell_type": "markdown",
      "source": [
        "### Training the Decision Tree"
      ],
      "metadata": {
        "id": "yYfe3F-WHdy7"
      }
    },
    {
      "cell_type": "code",
      "source": [
        "# Prepare the data into X (predictor) and Y (target)\n",
        "X = hr.drop(labels='left',axis=1)\n",
        "y = hr['left']"
      ],
      "metadata": {
        "id": "EH7XtpENHhIj"
      },
      "execution_count": null,
      "outputs": []
    },
    {
      "cell_type": "code",
      "source": [
        "x_train_dt , x_test_dt , y_train_dt , y_test_dt = train_test_split(X , y)"
      ],
      "metadata": {
        "id": "7PhjfBrMX8u6"
      },
      "execution_count": null,
      "outputs": []
    },
    {
      "cell_type": "code",
      "source": [
        "# First tree without restrictions\n",
        "tree_clf = DecisionTreeClassifier(random_state=42)\n",
        "tree_clf.fit(x_train_dt,y_train_dt)\n",
        "\n",
        "# Second tree with hyperparameters\n",
        "tree_clf2 = DecisionTreeClassifier(max_depth =2, min_samples_leaf =1, min_samples_split = 2, random_state=2)\n",
        "tree_clf2.fit(x_train_dt,y_train_dt)\n",
        "\n",
        "#third tree with class weights balanced and hyperparameters\n",
        "tree_clf3 = DecisionTreeClassifier(max_depth =2, min_samples_leaf =1, min_samples_split = 2, random_state=2, class_weight='balanced')\n",
        "tree_clf3.fit(x_train_dt,y_train_dt)"
      ],
      "metadata": {
        "colab": {
          "base_uri": "https://localhost:8080/"
        },
        "id": "NY1Z_eXOHj6W",
        "outputId": "2d8a4923-51ce-46c1-c940-b58aeb1d2891"
      },
      "execution_count": null,
      "outputs": [
        {
          "output_type": "execute_result",
          "data": {
            "text/plain": [
              "DecisionTreeClassifier(class_weight='balanced', max_depth=2, random_state=2)"
            ]
          },
          "metadata": {},
          "execution_count": 23
        }
      ]
    },
    {
      "cell_type": "markdown",
      "source": [
        "### Predictions"
      ],
      "metadata": {
        "id": "5xEak2l1HvzU"
      }
    },
    {
      "cell_type": "code",
      "source": [
        "# Predictions\n",
        "y_pred_train_dt = tree_clf.predict (x_train_dt)\n",
        "y_pred_train_2 = tree_clf2.predict (x_train_dt)\n",
        "y_pred_train_3 = tree_clf3.predict (x_train_dt)"
      ],
      "metadata": {
        "id": "IxP1Wr4eHxfv"
      },
      "execution_count": null,
      "outputs": []
    },
    {
      "cell_type": "code",
      "source": [
        "accuracy_score(y_train_dt,y_pred_train_dt)"
      ],
      "metadata": {
        "colab": {
          "base_uri": "https://localhost:8080/"
        },
        "id": "gJtDPR10H0-X",
        "outputId": "3577db0e-860a-4286-a0c2-e393c8280c99"
      },
      "execution_count": null,
      "outputs": [
        {
          "output_type": "execute_result",
          "data": {
            "text/plain": [
              "1.0"
            ]
          },
          "metadata": {},
          "execution_count": 28
        }
      ]
    },
    {
      "cell_type": "markdown",
      "source": [
        "Decision tree classifier with no hyperparameter tuning is closely fitting itself according to the training instances and hence the accuracy is 1, i.e. there is overfitting."
      ],
      "metadata": {
        "id": "rbJ1Gj4WH3PQ"
      }
    },
    {
      "cell_type": "code",
      "source": [
        "accuracy_score(y_train_dt,y_pred_train_2)"
      ],
      "metadata": {
        "colab": {
          "base_uri": "https://localhost:8080/"
        },
        "id": "o5C_qbF1H6do",
        "outputId": "551c25d4-ec24-4304-80cd-51157882d7e9"
      },
      "execution_count": null,
      "outputs": [
        {
          "output_type": "execute_result",
          "data": {
            "text/plain": [
              "0.8510978753666992"
            ]
          },
          "metadata": {},
          "execution_count": 29
        }
      ]
    },
    {
      "cell_type": "markdown",
      "source": [
        "To avoid overfitting the training data, the hyperparameters have been restricted and passed during the modeling."
      ],
      "metadata": {
        "id": "rtSBqyXhH8zO"
      }
    },
    {
      "cell_type": "code",
      "source": [
        "accuracy_score(y_train_dt,y_pred_train_3)"
      ],
      "metadata": {
        "colab": {
          "base_uri": "https://localhost:8080/"
        },
        "id": "cnxVpV-jRv0e",
        "outputId": "2841c7f5-6b85-4ba4-8dc3-ce0bb456c290"
      },
      "execution_count": null,
      "outputs": [
        {
          "output_type": "execute_result",
          "data": {
            "text/plain": [
              "0.8439861321006311"
            ]
          },
          "metadata": {},
          "execution_count": 30
        }
      ]
    },
    {
      "cell_type": "markdown",
      "source": [
        "### Testing the Model"
      ],
      "metadata": {
        "id": "RgEYuGFrIAQ8"
      }
    },
    {
      "cell_type": "code",
      "source": [
        "# Model 1 with no hyperparameter tuning\n",
        "y_pred_test = tree_clf.predict (x_test_dt)"
      ],
      "metadata": {
        "id": "KW2FvYOLIECE"
      },
      "execution_count": null,
      "outputs": []
    },
    {
      "cell_type": "code",
      "source": [
        "accuracy_score(y_test_dt,y_pred_test)"
      ],
      "metadata": {
        "colab": {
          "base_uri": "https://localhost:8080/"
        },
        "id": "Ltj1AUOHIGAe",
        "outputId": "151fb0ba-0633-42c9-8463-6373e8e989a4"
      },
      "execution_count": null,
      "outputs": [
        {
          "output_type": "execute_result",
          "data": {
            "text/plain": [
              "0.9757333333333333"
            ]
          },
          "metadata": {},
          "execution_count": 32
        }
      ]
    },
    {
      "cell_type": "code",
      "source": [
        "# Classification Report for Model 1\n",
        "print(classification_report(y_test_dt,y_pred_test))"
      ],
      "metadata": {
        "colab": {
          "base_uri": "https://localhost:8080/"
        },
        "id": "srCOXQQvUErl",
        "outputId": "434d6776-6df0-48a4-aa6a-1ac6de040555"
      },
      "execution_count": null,
      "outputs": [
        {
          "output_type": "stream",
          "name": "stdout",
          "text": [
            "              precision    recall  f1-score   support\n",
            "\n",
            "           0       0.99      0.98      0.98      2826\n",
            "           1       0.94      0.96      0.95       924\n",
            "\n",
            "    accuracy                           0.98      3750\n",
            "   macro avg       0.97      0.97      0.97      3750\n",
            "weighted avg       0.98      0.98      0.98      3750\n",
            "\n"
          ]
        }
      ]
    },
    {
      "cell_type": "code",
      "source": [
        "# Model 2 with hyperparameter tuning\n",
        "y_pred_test_2 = tree_clf2.predict (x_test_dt)"
      ],
      "metadata": {
        "id": "50B8rx7FIIKS"
      },
      "execution_count": null,
      "outputs": []
    },
    {
      "cell_type": "code",
      "source": [
        "accuracy_score(y_test_dt,y_pred_test_2)"
      ],
      "metadata": {
        "colab": {
          "base_uri": "https://localhost:8080/"
        },
        "id": "EsExUV5JIKCF",
        "outputId": "a81efb40-6df4-49b5-bb52-3d2a1a7bd6be"
      },
      "execution_count": null,
      "outputs": [
        {
          "output_type": "execute_result",
          "data": {
            "text/plain": [
              "0.8464"
            ]
          },
          "metadata": {},
          "execution_count": 35
        }
      ]
    },
    {
      "cell_type": "code",
      "source": [
        "# Classification report for Model 2\n",
        "print(classification_report(y_test_dt,y_pred_test_2))"
      ],
      "metadata": {
        "colab": {
          "base_uri": "https://localhost:8080/"
        },
        "id": "mSTvZ4pSUKbf",
        "outputId": "f56dcd13-9a49-4d4b-faf9-cc893489ebde"
      },
      "execution_count": null,
      "outputs": [
        {
          "output_type": "stream",
          "name": "stdout",
          "text": [
            "              precision    recall  f1-score   support\n",
            "\n",
            "           0       0.84      0.98      0.91      2826\n",
            "           1       0.89      0.43      0.58       924\n",
            "\n",
            "    accuracy                           0.85      3750\n",
            "   macro avg       0.87      0.71      0.74      3750\n",
            "weighted avg       0.85      0.85      0.83      3750\n",
            "\n"
          ]
        }
      ]
    },
    {
      "cell_type": "code",
      "source": [
        "#Model 3 with balanced dataset and hyperparameter tuning\n",
        "y_pred_test_3 = tree_clf3.predict (x_test_dt)"
      ],
      "metadata": {
        "id": "a3BHEolKRxV4"
      },
      "execution_count": null,
      "outputs": []
    },
    {
      "cell_type": "code",
      "source": [
        "accuracy_score(y_test_dt,y_pred_test_3)"
      ],
      "metadata": {
        "colab": {
          "base_uri": "https://localhost:8080/"
        },
        "id": "Xi0ZoldGR1Xu",
        "outputId": "795998b6-9e30-4656-ab3e-bc8acef6288f"
      },
      "execution_count": null,
      "outputs": [
        {
          "output_type": "execute_result",
          "data": {
            "text/plain": [
              "0.8448"
            ]
          },
          "metadata": {},
          "execution_count": 38
        }
      ]
    },
    {
      "cell_type": "code",
      "source": [
        "# Classification report for model 3\n",
        "print(classification_report(y_test_dt,y_pred_test_3))"
      ],
      "metadata": {
        "colab": {
          "base_uri": "https://localhost:8080/"
        },
        "id": "MCGl6QZ0URCK",
        "outputId": "c521c907-0076-446e-88a4-f062b40cfc9f"
      },
      "execution_count": null,
      "outputs": [
        {
          "output_type": "stream",
          "name": "stdout",
          "text": [
            "              precision    recall  f1-score   support\n",
            "\n",
            "           0       0.97      0.82      0.89      2826\n",
            "           1       0.62      0.93      0.75       924\n",
            "\n",
            "    accuracy                           0.84      3750\n",
            "   macro avg       0.80      0.87      0.82      3750\n",
            "weighted avg       0.89      0.84      0.85      3750\n",
            "\n"
          ]
        }
      ]
    },
    {
      "cell_type": "markdown",
      "source": [
        "# Logistic Regression"
      ],
      "metadata": {
        "id": "NoNm75U_-5Jb"
      }
    },
    {
      "cell_type": "code",
      "source": [
        "X = pd.get_dummies(hr_data, columns=['Work_accident',  'promotion_last_5years', 'department', 'salary'] , drop_first=True).drop(columns=['left'])"
      ],
      "metadata": {
        "id": "n9DpdHZCxHe3"
      },
      "execution_count": null,
      "outputs": []
    },
    {
      "cell_type": "code",
      "source": [
        "Y = hr_data['left']"
      ],
      "metadata": {
        "id": "pDqK8112xg4A"
      },
      "execution_count": null,
      "outputs": []
    },
    {
      "cell_type": "code",
      "source": [
        "columns =X.columns "
      ],
      "metadata": {
        "id": "srEJECT3xhho"
      },
      "execution_count": null,
      "outputs": []
    },
    {
      "cell_type": "markdown",
      "source": [
        "Dividing data into train and test sets"
      ],
      "metadata": {
        "id": "EAzORrB7xkE3"
      }
    },
    {
      "cell_type": "code",
      "source": [
        "x_train_lr , x_test_lr , y_train_lr , y_test_lr = train_test_split(X , Y )"
      ],
      "metadata": {
        "id": "wI2VcUgBxix4"
      },
      "execution_count": null,
      "outputs": []
    },
    {
      "cell_type": "markdown",
      "source": [
        "Scaling data (to get rid of skewness)"
      ],
      "metadata": {
        "id": "JxAzQxIzxsEB"
      }
    },
    {
      "cell_type": "code",
      "source": [
        "scaler  = preprocessing.MinMaxScaler()"
      ],
      "metadata": {
        "id": "qHFdBHLHxpQY"
      },
      "execution_count": null,
      "outputs": []
    },
    {
      "cell_type": "code",
      "source": [
        "x_train_lr= scaler.fit_transform(x_train_lr)"
      ],
      "metadata": {
        "id": "VCXYeDIKxuQw"
      },
      "execution_count": null,
      "outputs": []
    },
    {
      "cell_type": "code",
      "source": [
        "x_test_lr = scaler.fit_transform(x_test_lr)"
      ],
      "metadata": {
        "id": "HI16SdefxwFY"
      },
      "execution_count": null,
      "outputs": []
    },
    {
      "cell_type": "code",
      "source": [
        "# instantiate the model\n",
        "logreg = LogisticRegression( random_state=0)"
      ],
      "metadata": {
        "id": "Q_rx4oJPx2to"
      },
      "execution_count": null,
      "outputs": []
    },
    {
      "cell_type": "code",
      "source": [
        "# fit the model\n",
        "logreg.fit(x_train_lr, y_train_lr)"
      ],
      "metadata": {
        "id": "VItkx2zRx3ao",
        "colab": {
          "base_uri": "https://localhost:8080/"
        },
        "outputId": "c15cec30-ea3c-4074-a5b8-bd810adaa1c7"
      },
      "execution_count": null,
      "outputs": [
        {
          "output_type": "execute_result",
          "data": {
            "text/plain": [
              "LogisticRegression(random_state=0)"
            ]
          },
          "metadata": {},
          "execution_count": 48
        }
      ]
    },
    {
      "cell_type": "code",
      "source": [
        "LogisticRegression(random_state=0)"
      ],
      "metadata": {
        "colab": {
          "base_uri": "https://localhost:8080/"
        },
        "id": "0HDw3--Fx42o",
        "outputId": "ca815e69-ac38-4a57-cf3a-5f9ff979b513"
      },
      "execution_count": null,
      "outputs": [
        {
          "output_type": "execute_result",
          "data": {
            "text/plain": [
              "LogisticRegression(random_state=0)"
            ]
          },
          "metadata": {},
          "execution_count": 49
        }
      ]
    },
    {
      "cell_type": "code",
      "source": [
        "y_pred_train_lr = logreg.predict (x_train_lr)"
      ],
      "metadata": {
        "id": "8o2dXB8yx7if"
      },
      "execution_count": null,
      "outputs": []
    },
    {
      "cell_type": "code",
      "source": [
        "accuracy_score(y_train_lr,y_pred_train_lr.reshape(-1,))"
      ],
      "metadata": {
        "colab": {
          "base_uri": "https://localhost:8080/"
        },
        "id": "PvatngVXyBvT",
        "outputId": "b91d0751-407d-4b76-82a3-0055958d6cc2"
      },
      "execution_count": null,
      "outputs": [
        {
          "output_type": "execute_result",
          "data": {
            "text/plain": [
              "0.7821139656858387"
            ]
          },
          "metadata": {},
          "execution_count": 51
        }
      ]
    },
    {
      "cell_type": "markdown",
      "source": [
        "Testing the model logistic regression"
      ],
      "metadata": {
        "id": "MPfOe-xLyEFT"
      }
    },
    {
      "cell_type": "code",
      "source": [
        "y_pred_test_lr = logreg.predict (x_test_lr)"
      ],
      "metadata": {
        "id": "PebxynO3yCZK"
      },
      "execution_count": null,
      "outputs": []
    },
    {
      "cell_type": "code",
      "source": [
        "accuracy_score(y_test_lr,y_pred_test_lr.reshape(-1,))"
      ],
      "metadata": {
        "colab": {
          "base_uri": "https://localhost:8080/"
        },
        "id": "wm_GJpK4yGm5",
        "outputId": "fa47bf9a-0ae0-4db7-f834-cfa234c73a63"
      },
      "execution_count": null,
      "outputs": [
        {
          "output_type": "execute_result",
          "data": {
            "text/plain": [
              "0.7864"
            ]
          },
          "metadata": {},
          "execution_count": 53
        }
      ]
    },
    {
      "cell_type": "markdown",
      "source": [
        "# Random Forest"
      ],
      "metadata": {
        "id": "zqARLG8CONeL"
      }
    },
    {
      "cell_type": "code",
      "source": [
        "from sklearn.model_selection import train_test_split\n",
        "from sklearn.ensemble import RandomForestClassifier\n",
        "from sklearn.model_selection import cross_val_predict, cross_val_score\n",
        "from sklearn.metrics import accuracy_score, classification_report, confusion_matrix\n",
        "from sklearn.metrics import confusion_matrix\n",
        "from sklearn import model_selection"
      ],
      "metadata": {
        "id": "aTAxGUwtUj25"
      },
      "execution_count": null,
      "outputs": []
    },
    {
      "cell_type": "code",
      "source": [
        "df1 = hr_data"
      ],
      "metadata": {
        "id": "7SVUJiFmOQGA"
      },
      "execution_count": null,
      "outputs": []
    },
    {
      "cell_type": "code",
      "source": [
        "cat_vars=['department','salary']\n",
        "for var in cat_vars:\n",
        "    cat_list='var'+'_'+var\n",
        "    cat_list = pd.get_dummies(df1[var], prefix=var)\n",
        "    df2=df1.join(cat_list)\n",
        "    df1=df2"
      ],
      "metadata": {
        "id": "GlFig9VAUamT"
      },
      "execution_count": null,
      "outputs": []
    },
    {
      "cell_type": "code",
      "source": [
        "X = df1.drop(['left', 'department', 'salary'] ,axis=1)"
      ],
      "metadata": {
        "id": "86WaxQXiUeg3"
      },
      "execution_count": null,
      "outputs": []
    },
    {
      "cell_type": "code",
      "source": [
        "y = hr_data['left']"
      ],
      "metadata": {
        "id": "Ot0wVjdmUg3h"
      },
      "execution_count": null,
      "outputs": []
    },
    {
      "cell_type": "code",
      "source": [
        "X_train, X_test, y_train, y_test = train_test_split(X, y, train_size=0.7, random_state=42)\n",
        "X_train.shape, X_test.shape"
      ],
      "metadata": {
        "colab": {
          "base_uri": "https://localhost:8080/"
        },
        "id": "NO9tXhm1UmoO",
        "outputId": "d68e02a5-494c-4fc6-d8df-214d6ed99934"
      },
      "execution_count": null,
      "outputs": [
        {
          "output_type": "execute_result",
          "data": {
            "text/plain": [
              "((10499, 22), (4500, 22))"
            ]
          },
          "metadata": {},
          "execution_count": 59
        }
      ]
    },
    {
      "cell_type": "code",
      "source": [
        "# Model with hyperparameters\n",
        "classifier_rf = RandomForestClassifier(random_state=42, n_jobs=-1, max_depth=5,\n",
        "                                       n_estimators=100, oob_score=True)"
      ],
      "metadata": {
        "id": "ir8hoCEMUpzV"
      },
      "execution_count": null,
      "outputs": []
    },
    {
      "cell_type": "code",
      "source": [
        "classifier_rf.fit(X_train, y_train)"
      ],
      "metadata": {
        "colab": {
          "base_uri": "https://localhost:8080/"
        },
        "id": "LGUTq6j4Uuyh",
        "outputId": "47143d57-7037-4c88-ffc8-115d1bdb7bb8"
      },
      "execution_count": null,
      "outputs": [
        {
          "output_type": "execute_result",
          "data": {
            "text/plain": [
              "RandomForestClassifier(max_depth=5, n_jobs=-1, oob_score=True, random_state=42)"
            ]
          },
          "metadata": {},
          "execution_count": 61
        }
      ]
    },
    {
      "cell_type": "code",
      "source": [
        "classifier_rf.oob_score_"
      ],
      "metadata": {
        "colab": {
          "base_uri": "https://localhost:8080/"
        },
        "id": "e540GLKTUxHk",
        "outputId": "4c9681bb-e1c3-4e9d-96fc-1d1ba515c5e1"
      },
      "execution_count": null,
      "outputs": [
        {
          "output_type": "execute_result",
          "data": {
            "text/plain": [
              "0.9218973235546243"
            ]
          },
          "metadata": {},
          "execution_count": 62
        }
      ]
    },
    {
      "cell_type": "code",
      "source": [
        "y_pred = classifier_rf.predict(X_test)"
      ],
      "metadata": {
        "id": "2s9xx6uIUzUm"
      },
      "execution_count": null,
      "outputs": []
    },
    {
      "cell_type": "code",
      "source": [
        "accuracy_score(y_test, classifier_rf.predict(X_test))"
      ],
      "metadata": {
        "colab": {
          "base_uri": "https://localhost:8080/"
        },
        "id": "zB-7tkFsU1af",
        "outputId": "159f97e3-62ee-4242-dc3b-3e1789e4d1ee"
      },
      "execution_count": null,
      "outputs": [
        {
          "output_type": "execute_result",
          "data": {
            "text/plain": [
              "0.9171111111111111"
            ]
          },
          "metadata": {},
          "execution_count": 64
        }
      ]
    },
    {
      "cell_type": "code",
      "source": [
        "print(classification_report(y_test, classifier_rf.predict(X_test)))"
      ],
      "metadata": {
        "colab": {
          "base_uri": "https://localhost:8080/"
        },
        "id": "iGxrfW-CU33g",
        "outputId": "34fdc40e-82c0-42fb-db31-a28d5b2b5d23"
      },
      "execution_count": null,
      "outputs": [
        {
          "output_type": "stream",
          "name": "stdout",
          "text": [
            "              precision    recall  f1-score   support\n",
            "\n",
            "           0       0.90      1.00      0.95      3428\n",
            "           1       0.98      0.66      0.79      1072\n",
            "\n",
            "    accuracy                           0.92      4500\n",
            "   macro avg       0.94      0.83      0.87      4500\n",
            "weighted avg       0.92      0.92      0.91      4500\n",
            "\n"
          ]
        }
      ]
    },
    {
      "cell_type": "code",
      "source": [
        "kfold = model_selection.KFold(n_splits=10, shuffle=True,random_state=7)\n",
        "modelCV = RandomForestClassifier()\n",
        "scoring = 'accuracy'\n",
        "results = model_selection.cross_val_score(modelCV, X_train, y_train, cv=kfold, scoring=scoring)\n",
        "print(\"10-fold cross validation average accuracy for Random Forest Classifier: %.3f\" % (results.mean()))"
      ],
      "metadata": {
        "colab": {
          "base_uri": "https://localhost:8080/"
        },
        "id": "G2rVQ-bjU6JZ",
        "outputId": "142e4aec-f409-4ad2-ffaf-f0d7bc8bb553"
      },
      "execution_count": null,
      "outputs": [
        {
          "output_type": "stream",
          "name": "stdout",
          "text": [
            "10-fold cross validation average accuracy for Random Forest Classifier: 0.988\n"
          ]
        }
      ]
    },
    {
      "cell_type": "markdown",
      "source": [
        "# Model selection\n"
      ],
      "metadata": {
        "id": "yYD7ML5TU96z"
      }
    },
    {
      "cell_type": "code",
      "source": [
        "print('Logistic regression accuracy: {:.3f}'.format(accuracy_score(y_test_lr, logreg.predict(x_test_lr))))\n",
        "print('Random Forest Accuracy: {:.3f}'.format(accuracy_score(y_test, classifier_rf.predict(X_test))))\n",
        "print('Decision tree Accuracy: {:.3f}'.format(accuracy_score(y_test_dt, tree_clf3.predict(x_test_dt))))"
      ],
      "metadata": {
        "colab": {
          "base_uri": "https://localhost:8080/"
        },
        "id": "6txorGEZVd-R",
        "outputId": "948c673d-f3e9-4747-942c-2453c2d9f234"
      },
      "execution_count": null,
      "outputs": [
        {
          "output_type": "stream",
          "name": "stdout",
          "text": [
            "Logistic regression accuracy: 0.786\n",
            "Random Forest Accuracy: 0.917\n",
            "Decision tree Accuracy: 0.845\n"
          ]
        }
      ]
    },
    {
      "cell_type": "markdown",
      "source": [
        "Precision and Recall\n",
        "\n",
        "We construct confusion matrix to visualize predictions made by a classifier and evaluate the accuracy of a classification."
      ],
      "metadata": {
        "id": "dGmd4sQ_Y00e"
      }
    },
    {
      "cell_type": "code",
      "source": [
        "#Precison Recall Scores for Random Forest\n",
        "print(classification_report(y_test, classifier_rf.predict(X_test)))"
      ],
      "metadata": {
        "colab": {
          "base_uri": "https://localhost:8080/"
        },
        "id": "u_vmUSjgVh0w",
        "outputId": "a52c0567-54df-4073-a68b-a148f360c965"
      },
      "execution_count": null,
      "outputs": [
        {
          "output_type": "stream",
          "name": "stdout",
          "text": [
            "              precision    recall  f1-score   support\n",
            "\n",
            "           0       0.90      1.00      0.95      3428\n",
            "           1       0.98      0.66      0.79      1072\n",
            "\n",
            "    accuracy                           0.92      4500\n",
            "   macro avg       0.94      0.83      0.87      4500\n",
            "weighted avg       0.92      0.92      0.91      4500\n",
            "\n"
          ]
        }
      ]
    },
    {
      "cell_type": "code",
      "source": [
        "#Confusion Matrix for Random Forest\n",
        "y_pred = classifier_rf.predict(X_test)\n",
        "from sklearn.metrics import confusion_matrix\n",
        "import seaborn as sns\n",
        "forest_cm = confusion_matrix(y_pred, y_test)\n",
        "sns.heatmap(forest_cm, annot=True, fmt='.2f',xticklabels = [\"Left\", \"Stayed\"] , yticklabels = [\"Left\", \"Stayed\"] )\n",
        "plt.ylabel('True class')\n",
        "plt.xlabel('Predicted class')\n",
        "plt.title('Random Forest')\n",
        "plt.savefig('random_forest')"
      ],
      "metadata": {
        "colab": {
          "base_uri": "https://localhost:8080/",
          "height": 294
        },
        "id": "a52uftIqbAiJ",
        "outputId": "7b37e889-e4f5-4e61-ffd3-82124c1305e6"
      },
      "execution_count": null,
      "outputs": [
        {
          "output_type": "display_data",
          "data": {
            "text/plain": [
              "<Figure size 432x288 with 2 Axes>"
            ],
            "image/png": "[encoded data removed]"
          },
          "metadata": {
            "needs_background": "light"
          }
        }
      ]
    },
    {
      "cell_type": "code",
      "source": [
        "#PRScores for Logistic Regression\n",
        "print(classification_report(y_test_lr, logreg.predict(x_test_lr)))"
      ],
      "metadata": {
        "colab": {
          "base_uri": "https://localhost:8080/"
        },
        "id": "xb-A5Se6bRRK",
        "outputId": "eb5e8489-bb9f-44bf-e731-94b572a012ab"
      },
      "execution_count": null,
      "outputs": [
        {
          "output_type": "stream",
          "name": "stdout",
          "text": [
            "              precision    recall  f1-score   support\n",
            "\n",
            "           0       0.82      0.93      0.87      2861\n",
            "           1       0.59      0.33      0.42       889\n",
            "\n",
            "    accuracy                           0.79      3750\n",
            "   macro avg       0.70      0.63      0.65      3750\n",
            "weighted avg       0.76      0.79      0.76      3750\n",
            "\n"
          ]
        }
      ]
    },
    {
      "cell_type": "code",
      "source": [
        "#Confusion Matrix for Logistic Regression\n",
        "logreg_y_pred = logreg.predict(x_test_lr)\n",
        "logreg_cm = confusion_matrix(logreg_y_pred, y_test_lr)\n",
        "sns.heatmap(logreg_cm, annot=True, fmt='.2f',xticklabels = [\"Left\", \"Stayed\"] , yticklabels = [\"Left\", \"Stayed\"] )\n",
        "plt.ylabel('True class')\n",
        "plt.xlabel('Predicted class')\n",
        "plt.title('Logistic Regression')\n",
        "plt.savefig('logistic_regression')"
      ],
      "metadata": {
        "colab": {
          "base_uri": "https://localhost:8080/",
          "height": 294
        },
        "id": "Yw0THJGlbYUS",
        "outputId": "2dda9db1-5c11-44c5-fd75-d73230badba9"
      },
      "execution_count": null,
      "outputs": [
        {
          "output_type": "display_data",
          "data": {
            "text/plain": [
              "<Figure size 432x288 with 2 Axes>"
            ],
            "image/png": "[encoded data removed]"
          },
          "metadata": {
            "needs_background": "light"
          }
        }
      ]
    },
    {
      "cell_type": "code",
      "source": [
        "#PRScores for Decision Tree\n",
        "print(classification_report(y_test_dt, tree_clf3.predict(x_test_dt)))"
      ],
      "metadata": {
        "colab": {
          "base_uri": "https://localhost:8080/"
        },
        "id": "xK8YSGp8bixP",
        "outputId": "73c7ff26-ed9a-44f6-c042-70eb64d783d4"
      },
      "execution_count": null,
      "outputs": [
        {
          "output_type": "stream",
          "name": "stdout",
          "text": [
            "              precision    recall  f1-score   support\n",
            "\n",
            "           0       0.97      0.82      0.89      2826\n",
            "           1       0.62      0.93      0.75       924\n",
            "\n",
            "    accuracy                           0.84      3750\n",
            "   macro avg       0.80      0.87      0.82      3750\n",
            "weighted avg       0.89      0.84      0.85      3750\n",
            "\n"
          ]
        }
      ]
    },
    {
      "cell_type": "code",
      "source": [
        "#Confusion Matrix for Decision Tree\n",
        "dt_y_pred = tree_clf3.predict(x_test_dt)\n",
        "dt_cm = confusion_matrix(dt_y_pred, y_test_dt)\n",
        "sns.heatmap(dt_cm, annot=True, fmt='.2f',xticklabels = [\"Left\", \"Stayed\"] , yticklabels = [\"Left\", \"Stayed\"] )\n",
        "plt.ylabel('True class')\n",
        "plt.xlabel('Predicted class')\n",
        "plt.title('Decision Tree')\n",
        "plt.savefig('Decision Tree')"
      ],
      "metadata": {
        "colab": {
          "base_uri": "https://localhost:8080/",
          "height": 294
        },
        "id": "xmeS31NlbtPN",
        "outputId": "b73b5587-a5f4-4d8f-83eb-4740ec16b312"
      },
      "execution_count": null,
      "outputs": [
        {
          "output_type": "display_data",
          "data": {
            "text/plain": [
              "<Figure size 432x288 with 2 Axes>"
            ],
            "image/png": "[encoded data removed]"
          },
          "metadata": {
            "needs_background": "light"
          }
        }
      ]
    },
    {
      "cell_type": "markdown",
      "source": [
        "* Collate all the different metrics into one single doc or excel file to present to the professors\n",
        "* Mention prediction times\n",
        "* Balance the dataset manually first\n",
        "* Front-end structure?\n",
        "* Pick the best model and test the front-end part\n",
        "* For next session, front end part should be ready\n",
        "* Use advanced techniques to tune hyper parameters\n",
        "* Need to have proper evidence on why a model was selected\n",
        "* Next Steps - Some people need to work on trying models with hyper parameter tuning, some have to work on balancing the dataset, some have to work on completing the front-end part through webapps - enter information to see if someone will leave the organization or not.\n",
        "* Should labels be given to the employees - Not required\n",
        "* Features to be added to the webapp - Only use the features being used to train the model, ask these details from the user, so the model should be able to predict.\n",
        "* Save your model in a pickl, write pre-processing steps in a function so whenever a new record comes in it is pre-processed and send for prediction. Whatever is predicted is displayed to the front-end user.\n",
        "* Proper dashboard - 1 person\n",
        "* 2 people - modelling, hyper parameter tuning\n",
        "* 2 people - front-end\n",
        "* Dashboard can be in what? Power BI?\n",
        "* Dashboard has to make business sense, end users need to understand the story.\n",
        "\n"
      ],
      "metadata": {
        "id": "pPSnKbnMeUoj"
      }
    }
  ]
}